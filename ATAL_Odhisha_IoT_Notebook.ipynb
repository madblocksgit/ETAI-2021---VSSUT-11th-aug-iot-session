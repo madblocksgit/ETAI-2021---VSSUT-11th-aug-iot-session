{
  "nbformat": 4,
  "nbformat_minor": 0,
  "metadata": {
    "colab": {
      "name": "ATAL-Odhisha-IoT-Notebook.ipynb",
      "provenance": []
    },
    "kernelspec": {
      "name": "python3",
      "display_name": "Python 3"
    },
    "language_info": {
      "name": "python"
    }
  },
  "cells": [
    {
      "cell_type": "code",
      "metadata": {
        "colab": {
          "base_uri": "https://localhost:8080/"
        },
        "id": "BjFeERrmerUH",
        "outputId": "894a6842-862b-42c7-d8d8-b334486d6aae"
      },
      "source": [
        "pip install paho-mqtt"
      ],
      "execution_count": 1,
      "outputs": [
        {
          "output_type": "stream",
          "text": [
            "Collecting paho-mqtt\n",
            "  Downloading paho-mqtt-1.5.1.tar.gz (101 kB)\n",
            "\u001b[?25l\r\u001b[K     |███▏                            | 10 kB 20.1 MB/s eta 0:00:01\r\u001b[K     |██████▍                         | 20 kB 26.6 MB/s eta 0:00:01\r\u001b[K     |█████████▋                      | 30 kB 13.0 MB/s eta 0:00:01\r\u001b[K     |████████████▉                   | 40 kB 9.6 MB/s eta 0:00:01\r\u001b[K     |████████████████                | 51 kB 5.2 MB/s eta 0:00:01\r\u001b[K     |███████████████████▎            | 61 kB 5.2 MB/s eta 0:00:01\r\u001b[K     |██████████████████████▌         | 71 kB 5.6 MB/s eta 0:00:01\r\u001b[K     |█████████████████████████▊      | 81 kB 6.2 MB/s eta 0:00:01\r\u001b[K     |█████████████████████████████   | 92 kB 6.2 MB/s eta 0:00:01\r\u001b[K     |████████████████████████████████| 101 kB 4.3 MB/s \n",
            "\u001b[?25hBuilding wheels for collected packages: paho-mqtt\n",
            "  Building wheel for paho-mqtt (setup.py) ... \u001b[?25l\u001b[?25hdone\n",
            "  Created wheel for paho-mqtt: filename=paho_mqtt-1.5.1-py3-none-any.whl size=61566 sha256=dc9238c2558ddbdedbc2b423aa3fbc4eb91834d3bb4781ea0990e63ae5622b96\n",
            "  Stored in directory: /root/.cache/pip/wheels/c9/be/2a/883db47312c70ef7ffcaff281f3294e3075f62da075474d4bb\n",
            "Successfully built paho-mqtt\n",
            "Installing collected packages: paho-mqtt\n",
            "Successfully installed paho-mqtt-1.5.1\n"
          ],
          "name": "stdout"
        }
      ]
    },
    {
      "cell_type": "code",
      "metadata": {
        "colab": {
          "base_uri": "https://localhost:8080/"
        },
        "id": "Lb5AEFD4eTon",
        "outputId": "de478b18-58fd-428a-d399-f5b1500f479e"
      },
      "source": [
        "# Publisher - User - Google Colab\n",
        "# Broker - AWS\n",
        "# Subscriber - RPi\n",
        "\n",
        "# Google Colab (Pub) -> AWS Broker -> Subscriber (RPI) -> MSG\n",
        "import paho.mqtt.client as mqtt\n",
        "\n",
        "# create a client object\n",
        "client=mqtt.Client()\n",
        "\n",
        "while True:\n",
        "  print ('Enter on to make bulb on')\n",
        "  print ('Enter off to make bulb off')\n",
        "  k=input('Enter choice: on/off')\n",
        "  if(k==\"on\"):\n",
        "    client.connect(\"34.244.89.66\",1883)\n",
        "    print('Broker Connected')\n",
        "    client.publish('VSSUT/bulb','on')\n",
        "  elif(k==\"off\"):\n",
        "    client.connect(\"34.244.89.66\",1883)\n",
        "    print('Broker Connected')\n",
        "    client.publish('VSSUT/bulb','off')\n",
        "\n",
        "\n"
      ],
      "execution_count": null,
      "outputs": [
        {
          "output_type": "stream",
          "text": [
            "Enter on to make bulb on\n",
            "Enter off to make bulb off\n",
            "Broker Connected\n",
            "Enter on to make bulb on\n",
            "Enter off to make bulb off\n",
            "Broker Connected\n",
            "Enter on to make bulb on\n",
            "Enter off to make bulb off\n",
            "Broker Connected\n",
            "Enter on to make bulb on\n",
            "Enter off to make bulb off\n",
            "Broker Connected\n",
            "Enter on to make bulb on\n",
            "Enter off to make bulb off\n",
            "Broker Connected\n",
            "Enter on to make bulb on\n",
            "Enter off to make bulb off\n",
            "Broker Connected\n",
            "Enter on to make bulb on\n",
            "Enter off to make bulb off\n",
            "Broker Connected\n",
            "Enter on to make bulb on\n",
            "Enter off to make bulb off\n",
            "Broker Connected\n",
            "Enter on to make bulb on\n",
            "Enter off to make bulb off\n",
            "Broker Connected\n",
            "Enter on to make bulb on\n",
            "Enter off to make bulb off\n",
            "Broker Connected\n",
            "Enter on to make bulb on\n",
            "Enter off to make bulb off\n",
            "Broker Connected\n",
            "Enter on to make bulb on\n",
            "Enter off to make bulb off\n",
            "Broker Connected\n",
            "Enter on to make bulb on\n",
            "Enter off to make bulb off\n"
          ],
          "name": "stdout"
        }
      ]
    }
  ]
}